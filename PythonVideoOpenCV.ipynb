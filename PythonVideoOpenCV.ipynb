{
 "cells": [
  {
   "cell_type": "markdown",
   "metadata": {},
   "source": [
    "<h3>Exemplo 1:</h3>\n",
    "Exibir um vídeo usando OpenCV"
   ]
  },
  {
   "cell_type": "code",
   "execution_count": null,
   "metadata": {
    "scrolled": true
   },
   "outputs": [],
   "source": [
    "import showVideo as vd\n",
    "\n",
    "path = './video/video.mp4'\n",
    "vd.show_video(path) # pressione a letra \"q\" minúscula para interromper (q = quit)\n",
    "\n",
    "print('FIM')"
   ]
  },
  {
   "cell_type": "markdown",
   "metadata": {},
   "source": [
    "<h3>Exemplo 2:</h3>\n",
    "Capturar Webcam"
   ]
  },
  {
   "cell_type": "code",
   "execution_count": null,
   "metadata": {},
   "outputs": [],
   "source": [
    "import webcam as wc\n",
    "wc.webcam() # pressione a letra \"q\" minúscula para interromper (q = quit)\n",
    "print('FIM')"
   ]
  },
  {
   "cell_type": "markdown",
   "metadata": {},
   "source": [
    "<h3>Exemplo 3:</h3>\n",
    "Converter um vídeo em uma sequência de imagens"
   ]
  },
  {
   "cell_type": "code",
   "execution_count": null,
   "metadata": {},
   "outputs": [],
   "source": [
    "import videoToFrame as vf\n",
    "\n",
    "entrada = './video/video.mp4'\n",
    "saida = './images'\n",
    "\n",
    "vf.video_to_frame(entrada, saida, verbose=True)\n",
    "print('FIM')"
   ]
  },
  {
   "cell_type": "markdown",
   "metadata": {},
   "source": [
    "<h3>Exemplo 4:</h3>\n",
    "Converter uma sequencia de imagens em vídeo"
   ]
  },
  {
   "cell_type": "code",
   "execution_count": null,
   "metadata": {},
   "outputs": [],
   "source": [
    "import frameToVideo as fv\n",
    "\n",
    "entrada = './images'\n",
    "\n",
    "fv.frame_to_video(entrada, verbose=True)"
   ]
  },
  {
   "cell_type": "code",
   "execution_count": null,
   "metadata": {},
   "outputs": [],
   "source": []
  }
 ],
 "metadata": {
  "kernelspec": {
   "display_name": "Python 3",
   "language": "python",
   "name": "python3"
  },
  "language_info": {
   "codemirror_mode": {
    "name": "ipython",
    "version": 3
   },
   "file_extension": ".py",
   "mimetype": "text/x-python",
   "name": "python",
   "nbconvert_exporter": "python",
   "pygments_lexer": "ipython3",
   "version": "3.5.5"
  }
 },
 "nbformat": 4,
 "nbformat_minor": 2
}
